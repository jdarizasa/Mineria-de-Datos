{
 "cells": [
  {
   "cell_type": "markdown",
   "metadata": {},
   "source": [
    "# Regresión lineal: Historia, desarrollo y aplicación"
   ]
  },
  {
   "cell_type": "markdown",
   "metadata": {},
   "source": [
    "## Introducción\n",
    "\n",
    "Dentro del trabajo cotidiano de la estadística se encuentra el ajuste de modelos, dentro de los cuales se encuentran los modelos de regresión lineal. Estos modelos han estado más de 200 años en la labor estadística y han sido claves en la compresión de fenomenos que se explican en términos de variables relacionadas a él. \n",
    "\n",
    "Es innegable que desde el desarrollo de los computadores los modelos de regresión han incrementado su complejidad y nos han dado un mayor entendimiento tanto de los problemas, como de los modelos en si. Sin embargo, no se puede olvidar la historia que predece a eso, para comprender mejor el desarrollo de esos modelos, el algoritmo para estimar sus parametros, la representación de la recta (o plano) y cómo se están usando a día de hoy.\n",
    "\n",
    "En el presente ensayo, además de tocar estos temas tambien se hará un pequeño ejemplo de aplicación; se estimará un modelo de regresión con dos variables explicativas, 1599 datos observados y se reproducirá una representación tridimensional del plano obtenido. Como una prueba de las capacidad y uso del entrenamiento de modelos de regresión en Python podremos ver la estimación de los coeficientes de regresión y una predicción de la variable de respuesta"
   ]
  },
  {
   "cell_type": "markdown",
   "metadata": {},
   "source": [
    "## Historia\n",
    "Para rastrear el inicio de las nociones aplicadas de regresión lineal debemos situarnos en el siglo XIX con [LambertAdolphe-Jacques Quetelet](https://es.wikipedia.org/wiki/Adolphe_Quetelet), con sus trabajos en estimación empirica de las medias y desviaciones estándar de medidas antropométricas bajo el supuesto que estas medidas dependian de variables independientes como el sexo, edad o nivel de educación. En sus estudios llegó a relacionar dos o más variables, obteniendo ecuaciones de funciones para describir el comportamiento (Estepa et al, 2012). Lo novedoso de Quetelet fue considerar la dispersión de las medidas antropométricas y dar una descripción de esa variabilidad a través de la ley normal.\n",
    "\n",
    "Luego, el otro científico que avanzó en estos desarrollos fue [Francis Galton](https://es.wikipedia.org/wiki/Francis_Galton), cuyo principal interés en un periodo de su vida fueron los estudios empíricos de las leyes de la herencia por medio de métodos estadísticos. Galton estudia la comparación de las características físicas de los hijos con las de sus padres, esto para darle soporte a la teoría de la evolución de Darwin demostrando que las características de los sujetos se heredan de una generación a otra.\n",
    "\n",
    "<center><img src=https://s2.studylib.es/store/data/005847580_1-7a3f90177307bab4ef7cd93e4ad59e3b.png width=200 height=100></center>\n",
    "\n",
    "Sin embargo, según Hald (1968) Galton no tenia los suficientes datos para realizar este experimento así que diseñó uno con semillas con el fin de estudiar la distribución de los pesos de las semillas en dos generaciones. El experimento consistia en tener un grupo de 70 semillas clasificadas según su peso en siete grupos, luego darle a siete amigos 10 semillas cada uno para que sembraran las semillas y finalmente le enviaran a Galton las semillas cosechadas. Las conclusiones de este experimento fue que el peso medio de las semillas de la segunda generación era función lineal del peso de las semillas de la primera generación. Galton llamará a esta propieda **regresion** (Estepa et al, 2012).\n",
    "\n",
    "<center><img src=\"doodle-gauss-portada.jpg\" width=350 height=100></center>\n",
    "\n",
    "Sin embargo, las ideas sobre regresión como hoy la conocemos se originan en [Gauss](https://es.wikipedia.org/wiki/Carl_Friedrich_Gauss) y [Legendre](https://es.wikipedia.org/wiki/Adrien-Marie_Legendre) con el método de [mínimos cuadrados](http://matematicas.uis.edu.co/sites/default/files/paginas/archivos/Minimos%20Cuadrados%20%281%29.pdf) en la primera mitad del siglo XIX. Gracias al teorema de Gauss-Markov se demuestra que los estimadores obtenidos son insesgados y no se requiere una distribución específica, es decir, el método era adecuado para estimar los parámetros (Hocking, 2003).\n",
    "\n",
    "Finalmente, el desarrollo del computador permitió considerar modelos de regresión con cada vez más variables y análisis de varianza con más factores, permitiendo el avance de técnicas para identificar y examinar el rol de datos atípicos o detectar problemas de colinealidad."
   ]
  },
  {
   "cell_type": "markdown",
   "metadata": {},
   "source": [
    "## Planteamiento del Algoritmo\n",
    "\n",
    "Un problema de regresión lineal es cuando tenemos una variable de respuesta **y** relacionada con k variables regresoras o explicativas **$x_{1},x_{2},\\dots,x_{k}$** (Montgomery, Peck and Vining, 2001). El modelo de regresión lineal múltiple con k variables explicativas está dado por:  \n",
    "$$\n",
    "y = \\beta_{o} + \\beta_{1}x_{1} + \\beta_{2}x_{2} + \\dots + \\beta_{k}x_{k} + \\epsilon\n",
    "$$\n",
    "\n",
    "Equivalentemente de un modo matricial:\n",
    "$$\n",
    "y = X\\beta + \\epsilon\n",
    "$$\n",
    "\n",
    "Donde $y$ es el vector $n$ x 1 de observaciones, $X$ es la matriz $n$ x $k$ de los niveles de las variables regresoras, $\\beta$ es el vector $k$ x 1 de coeficientes de regresión y $\\epsilon$ es el vector $n$ x 1 de los errores. \n",
    "### Algoritmo para la estimación del modelo\n",
    "\n",
    "El primer paso es calcular el producto de matrices:\n",
    "$$\n",
    "X'X\n",
    "$$\n",
    "\n",
    "El segundo paso es invertir el producto:\n",
    "$$\n",
    "(X'X)^{-1}\n",
    "$$\n",
    "\n",
    "El tercer paso es:\n",
    "$$\n",
    "(X'X)^{-1}X'y\n",
    "$$\n",
    "\n",
    "Por el método de mínimos cuadrados ordinarios sabemos que la estimación de los coeficientes de regresión del modelo es:\n",
    "\n",
    "$$\n",
    "\\hat{\\beta} = (X'X)^{-1}X'y\n",
    "$$\n",
    "\n",
    "El cuarto y último paso es la estimación del modelo:\n",
    "$$\n",
    "\\hat{y} = X \\hat{\\beta} \n",
    "$$\n",
    "\n",
    "Como un paso adicional se puede calcular el vector de residuos como:\n",
    "$$\n",
    "e = y - X \\hat{\\beta}\n",
    "$$\n",
    "\n",
    "Como ya se tiene la estimación del modelo, se debe continuar con las pruebas de significancia, la verificación del modelo y el análisis de datos atípicos. Sin embargo, esos temas no se alcanzan a abordar en este ensayo."
   ]
  },
  {
   "cell_type": "markdown",
   "metadata": {},
   "source": [
    "## Aplicación de regresión lineal\n",
    "\n",
    "El caso aplicado será con una base de datos de vinos (Cortez et al, 2009), donde la variable de respuesta es la calidad del vino (puntaje de 0 a 10) y las variables explicativas serán acidez volátil y alcohol, a pesar de que la base de datos tiene más posibles variables explicativas con las cuales se puede construir un mejor modelo, para propósitos de este ensayo se usarán solo estas dos ya que así se podrá construir una representación en el plano tridimensional.  "
   ]
  },
  {
   "cell_type": "markdown",
   "metadata": {},
   "source": [
    "Seguiremos la ayuda presentada en (Ejemplo Regresión Lineal Python | Aprende Machine Learning, 2021)\n",
    "\n",
    "Cargamos las librerias necesarias "
   ]
  },
  {
   "cell_type": "code",
   "execution_count": 2,
   "metadata": {},
   "outputs": [],
   "source": [
    "import numpy as np\n",
    "import pandas as pd\n",
    "import seaborn as sb\n",
    "import matplotlib.pyplot as plt\n",
    "%matplotlib inline\n",
    "from mpl_toolkits.mplot3d import Axes3D\n",
    "from matplotlib import cm\n",
    "plt.rcParams['figure.figsize'] = (16, 9)\n",
    "plt.style.use('ggplot')\n",
    "from sklearn import linear_model\n",
    "from sklearn.metrics import mean_squared_error, r2_score"
   ]
  },
  {
   "cell_type": "markdown",
   "metadata": {},
   "source": [
    "Cargamos los datos de la calidad de vinos"
   ]
  },
  {
   "cell_type": "code",
   "execution_count": 3,
   "metadata": {},
   "outputs": [
    {
     "data": {
      "text/plain": [
       "(1599, 12)"
      ]
     },
     "execution_count": 3,
     "metadata": {},
     "output_type": "execute_result"
    }
   ],
   "source": [
    "#cargamos los datos de entrada\n",
    "data = pd.read_csv(\"./winequality-red.csv\")\n",
    "data.shape"
   ]
  },
  {
   "cell_type": "markdown",
   "metadata": {},
   "source": [
    "Vemos que se cargaron adecuádamente y vemos algunos"
   ]
  },
  {
   "cell_type": "code",
   "execution_count": 4,
   "metadata": {},
   "outputs": [
    {
     "data": {
      "text/html": [
       "<div>\n",
       "<style scoped>\n",
       "    .dataframe tbody tr th:only-of-type {\n",
       "        vertical-align: middle;\n",
       "    }\n",
       "\n",
       "    .dataframe tbody tr th {\n",
       "        vertical-align: top;\n",
       "    }\n",
       "\n",
       "    .dataframe thead th {\n",
       "        text-align: right;\n",
       "    }\n",
       "</style>\n",
       "<table border=\"1\" class=\"dataframe\">\n",
       "  <thead>\n",
       "    <tr style=\"text-align: right;\">\n",
       "      <th></th>\n",
       "      <th>fixed acidity</th>\n",
       "      <th>volatile acidity</th>\n",
       "      <th>citric acid</th>\n",
       "      <th>residual sugar</th>\n",
       "      <th>chlorides</th>\n",
       "      <th>free sulfur dioxide</th>\n",
       "      <th>total sulfur dioxide</th>\n",
       "      <th>density</th>\n",
       "      <th>pH</th>\n",
       "      <th>sulphates</th>\n",
       "      <th>alcohol</th>\n",
       "      <th>quality</th>\n",
       "    </tr>\n",
       "  </thead>\n",
       "  <tbody>\n",
       "    <tr>\n",
       "      <th>0</th>\n",
       "      <td>7.4</td>\n",
       "      <td>0.70</td>\n",
       "      <td>0.00</td>\n",
       "      <td>1.9</td>\n",
       "      <td>0.076</td>\n",
       "      <td>11.0</td>\n",
       "      <td>34.0</td>\n",
       "      <td>0.9978</td>\n",
       "      <td>3.51</td>\n",
       "      <td>0.56</td>\n",
       "      <td>9.4</td>\n",
       "      <td>5</td>\n",
       "    </tr>\n",
       "    <tr>\n",
       "      <th>1</th>\n",
       "      <td>7.8</td>\n",
       "      <td>0.88</td>\n",
       "      <td>0.00</td>\n",
       "      <td>2.6</td>\n",
       "      <td>0.098</td>\n",
       "      <td>25.0</td>\n",
       "      <td>67.0</td>\n",
       "      <td>0.9968</td>\n",
       "      <td>3.20</td>\n",
       "      <td>0.68</td>\n",
       "      <td>9.8</td>\n",
       "      <td>5</td>\n",
       "    </tr>\n",
       "    <tr>\n",
       "      <th>2</th>\n",
       "      <td>7.8</td>\n",
       "      <td>0.76</td>\n",
       "      <td>0.04</td>\n",
       "      <td>2.3</td>\n",
       "      <td>0.092</td>\n",
       "      <td>15.0</td>\n",
       "      <td>54.0</td>\n",
       "      <td>0.9970</td>\n",
       "      <td>3.26</td>\n",
       "      <td>0.65</td>\n",
       "      <td>9.8</td>\n",
       "      <td>5</td>\n",
       "    </tr>\n",
       "    <tr>\n",
       "      <th>3</th>\n",
       "      <td>11.2</td>\n",
       "      <td>0.28</td>\n",
       "      <td>0.56</td>\n",
       "      <td>1.9</td>\n",
       "      <td>0.075</td>\n",
       "      <td>17.0</td>\n",
       "      <td>60.0</td>\n",
       "      <td>0.9980</td>\n",
       "      <td>3.16</td>\n",
       "      <td>0.58</td>\n",
       "      <td>9.8</td>\n",
       "      <td>6</td>\n",
       "    </tr>\n",
       "    <tr>\n",
       "      <th>4</th>\n",
       "      <td>7.4</td>\n",
       "      <td>0.70</td>\n",
       "      <td>0.00</td>\n",
       "      <td>1.9</td>\n",
       "      <td>0.076</td>\n",
       "      <td>11.0</td>\n",
       "      <td>34.0</td>\n",
       "      <td>0.9978</td>\n",
       "      <td>3.51</td>\n",
       "      <td>0.56</td>\n",
       "      <td>9.4</td>\n",
       "      <td>5</td>\n",
       "    </tr>\n",
       "  </tbody>\n",
       "</table>\n",
       "</div>"
      ],
      "text/plain": [
       "   fixed acidity  volatile acidity  citric acid  residual sugar  chlorides  \\\n",
       "0            7.4              0.70         0.00             1.9      0.076   \n",
       "1            7.8              0.88         0.00             2.6      0.098   \n",
       "2            7.8              0.76         0.04             2.3      0.092   \n",
       "3           11.2              0.28         0.56             1.9      0.075   \n",
       "4            7.4              0.70         0.00             1.9      0.076   \n",
       "\n",
       "   free sulfur dioxide  total sulfur dioxide  density    pH  sulphates  \\\n",
       "0                 11.0                  34.0   0.9978  3.51       0.56   \n",
       "1                 25.0                  67.0   0.9968  3.20       0.68   \n",
       "2                 15.0                  54.0   0.9970  3.26       0.65   \n",
       "3                 17.0                  60.0   0.9980  3.16       0.58   \n",
       "4                 11.0                  34.0   0.9978  3.51       0.56   \n",
       "\n",
       "   alcohol  quality  \n",
       "0      9.4        5  \n",
       "1      9.8        5  \n",
       "2      9.8        5  \n",
       "3      9.8        6  \n",
       "4      9.4        5  "
      ]
     },
     "execution_count": 4,
     "metadata": {},
     "output_type": "execute_result"
    }
   ],
   "source": [
    "data.head()"
   ]
  },
  {
   "cell_type": "markdown",
   "metadata": {},
   "source": [
    "Hacemos un análisis descriptivo de los datos"
   ]
  },
  {
   "cell_type": "code",
   "execution_count": 5,
   "metadata": {},
   "outputs": [
    {
     "data": {
      "text/html": [
       "<div>\n",
       "<style scoped>\n",
       "    .dataframe tbody tr th:only-of-type {\n",
       "        vertical-align: middle;\n",
       "    }\n",
       "\n",
       "    .dataframe tbody tr th {\n",
       "        vertical-align: top;\n",
       "    }\n",
       "\n",
       "    .dataframe thead th {\n",
       "        text-align: right;\n",
       "    }\n",
       "</style>\n",
       "<table border=\"1\" class=\"dataframe\">\n",
       "  <thead>\n",
       "    <tr style=\"text-align: right;\">\n",
       "      <th></th>\n",
       "      <th>fixed acidity</th>\n",
       "      <th>volatile acidity</th>\n",
       "      <th>citric acid</th>\n",
       "      <th>residual sugar</th>\n",
       "      <th>chlorides</th>\n",
       "      <th>free sulfur dioxide</th>\n",
       "      <th>total sulfur dioxide</th>\n",
       "      <th>density</th>\n",
       "      <th>pH</th>\n",
       "      <th>sulphates</th>\n",
       "      <th>alcohol</th>\n",
       "      <th>quality</th>\n",
       "    </tr>\n",
       "  </thead>\n",
       "  <tbody>\n",
       "    <tr>\n",
       "      <th>count</th>\n",
       "      <td>1599.000000</td>\n",
       "      <td>1599.000000</td>\n",
       "      <td>1599.000000</td>\n",
       "      <td>1599.000000</td>\n",
       "      <td>1599.000000</td>\n",
       "      <td>1599.000000</td>\n",
       "      <td>1599.000000</td>\n",
       "      <td>1599.000000</td>\n",
       "      <td>1599.000000</td>\n",
       "      <td>1599.000000</td>\n",
       "      <td>1599.000000</td>\n",
       "      <td>1599.000000</td>\n",
       "    </tr>\n",
       "    <tr>\n",
       "      <th>mean</th>\n",
       "      <td>8.319637</td>\n",
       "      <td>0.527821</td>\n",
       "      <td>0.270976</td>\n",
       "      <td>2.538806</td>\n",
       "      <td>0.087467</td>\n",
       "      <td>15.874922</td>\n",
       "      <td>46.467792</td>\n",
       "      <td>0.996747</td>\n",
       "      <td>3.311113</td>\n",
       "      <td>0.658149</td>\n",
       "      <td>10.422983</td>\n",
       "      <td>5.636023</td>\n",
       "    </tr>\n",
       "    <tr>\n",
       "      <th>std</th>\n",
       "      <td>1.741096</td>\n",
       "      <td>0.179060</td>\n",
       "      <td>0.194801</td>\n",
       "      <td>1.409928</td>\n",
       "      <td>0.047065</td>\n",
       "      <td>10.460157</td>\n",
       "      <td>32.895324</td>\n",
       "      <td>0.001887</td>\n",
       "      <td>0.154386</td>\n",
       "      <td>0.169507</td>\n",
       "      <td>1.065668</td>\n",
       "      <td>0.807569</td>\n",
       "    </tr>\n",
       "    <tr>\n",
       "      <th>min</th>\n",
       "      <td>4.600000</td>\n",
       "      <td>0.120000</td>\n",
       "      <td>0.000000</td>\n",
       "      <td>0.900000</td>\n",
       "      <td>0.012000</td>\n",
       "      <td>1.000000</td>\n",
       "      <td>6.000000</td>\n",
       "      <td>0.990070</td>\n",
       "      <td>2.740000</td>\n",
       "      <td>0.330000</td>\n",
       "      <td>8.400000</td>\n",
       "      <td>3.000000</td>\n",
       "    </tr>\n",
       "    <tr>\n",
       "      <th>25%</th>\n",
       "      <td>7.100000</td>\n",
       "      <td>0.390000</td>\n",
       "      <td>0.090000</td>\n",
       "      <td>1.900000</td>\n",
       "      <td>0.070000</td>\n",
       "      <td>7.000000</td>\n",
       "      <td>22.000000</td>\n",
       "      <td>0.995600</td>\n",
       "      <td>3.210000</td>\n",
       "      <td>0.550000</td>\n",
       "      <td>9.500000</td>\n",
       "      <td>5.000000</td>\n",
       "    </tr>\n",
       "    <tr>\n",
       "      <th>50%</th>\n",
       "      <td>7.900000</td>\n",
       "      <td>0.520000</td>\n",
       "      <td>0.260000</td>\n",
       "      <td>2.200000</td>\n",
       "      <td>0.079000</td>\n",
       "      <td>14.000000</td>\n",
       "      <td>38.000000</td>\n",
       "      <td>0.996750</td>\n",
       "      <td>3.310000</td>\n",
       "      <td>0.620000</td>\n",
       "      <td>10.200000</td>\n",
       "      <td>6.000000</td>\n",
       "    </tr>\n",
       "    <tr>\n",
       "      <th>75%</th>\n",
       "      <td>9.200000</td>\n",
       "      <td>0.640000</td>\n",
       "      <td>0.420000</td>\n",
       "      <td>2.600000</td>\n",
       "      <td>0.090000</td>\n",
       "      <td>21.000000</td>\n",
       "      <td>62.000000</td>\n",
       "      <td>0.997835</td>\n",
       "      <td>3.400000</td>\n",
       "      <td>0.730000</td>\n",
       "      <td>11.100000</td>\n",
       "      <td>6.000000</td>\n",
       "    </tr>\n",
       "    <tr>\n",
       "      <th>max</th>\n",
       "      <td>15.900000</td>\n",
       "      <td>1.580000</td>\n",
       "      <td>1.000000</td>\n",
       "      <td>15.500000</td>\n",
       "      <td>0.611000</td>\n",
       "      <td>72.000000</td>\n",
       "      <td>289.000000</td>\n",
       "      <td>1.003690</td>\n",
       "      <td>4.010000</td>\n",
       "      <td>2.000000</td>\n",
       "      <td>14.900000</td>\n",
       "      <td>8.000000</td>\n",
       "    </tr>\n",
       "  </tbody>\n",
       "</table>\n",
       "</div>"
      ],
      "text/plain": [
       "       fixed acidity  volatile acidity  citric acid  residual sugar  \\\n",
       "count    1599.000000       1599.000000  1599.000000     1599.000000   \n",
       "mean        8.319637          0.527821     0.270976        2.538806   \n",
       "std         1.741096          0.179060     0.194801        1.409928   \n",
       "min         4.600000          0.120000     0.000000        0.900000   \n",
       "25%         7.100000          0.390000     0.090000        1.900000   \n",
       "50%         7.900000          0.520000     0.260000        2.200000   \n",
       "75%         9.200000          0.640000     0.420000        2.600000   \n",
       "max        15.900000          1.580000     1.000000       15.500000   \n",
       "\n",
       "         chlorides  free sulfur dioxide  total sulfur dioxide      density  \\\n",
       "count  1599.000000          1599.000000           1599.000000  1599.000000   \n",
       "mean      0.087467            15.874922             46.467792     0.996747   \n",
       "std       0.047065            10.460157             32.895324     0.001887   \n",
       "min       0.012000             1.000000              6.000000     0.990070   \n",
       "25%       0.070000             7.000000             22.000000     0.995600   \n",
       "50%       0.079000            14.000000             38.000000     0.996750   \n",
       "75%       0.090000            21.000000             62.000000     0.997835   \n",
       "max       0.611000            72.000000            289.000000     1.003690   \n",
       "\n",
       "                pH    sulphates      alcohol      quality  \n",
       "count  1599.000000  1599.000000  1599.000000  1599.000000  \n",
       "mean      3.311113     0.658149    10.422983     5.636023  \n",
       "std       0.154386     0.169507     1.065668     0.807569  \n",
       "min       2.740000     0.330000     8.400000     3.000000  \n",
       "25%       3.210000     0.550000     9.500000     5.000000  \n",
       "50%       3.310000     0.620000    10.200000     6.000000  \n",
       "75%       3.400000     0.730000    11.100000     6.000000  \n",
       "max       4.010000     2.000000    14.900000     8.000000  "
      ]
     },
     "execution_count": 5,
     "metadata": {},
     "output_type": "execute_result"
    }
   ],
   "source": [
    "data.describe()"
   ]
  },
  {
   "cell_type": "markdown",
   "metadata": {},
   "source": [
    "Ahora, vamos a crear el modelo con dos variables explicativas que serán **volatile acidity** y **alcohol**. Esto con el fin de graficar un plano."
   ]
  },
  {
   "cell_type": "code",
   "execution_count": 26,
   "metadata": {},
   "outputs": [],
   "source": [
    "dataX2 =  pd.DataFrame()\n",
    "dataX2[\"volatile acidity\"] = data[\"volatile acidity\"]\n",
    "dataX2[\"alcohol\"] = data[\"alcohol\"]\n",
    "XY_train = np.array(dataX2)\n",
    "z_train = data[\"quality\"]"
   ]
  },
  {
   "cell_type": "markdown",
   "metadata": {},
   "source": [
    "Creamos y entrenamos el modelo"
   ]
  },
  {
   "cell_type": "code",
   "execution_count": 27,
   "metadata": {},
   "outputs": [
    {
     "name": "stdout",
     "output_type": "stream",
     "text": [
      "Coefficients: \n",
      " [-1.38363571  0.31381252]\n",
      "Mean squared error: 0.45\n",
      "Variance score: 0.32\n"
     ]
    }
   ],
   "source": [
    "# Creamos un nuevo objeto de Regresión Lineal\n",
    "regr2 = linear_model.LinearRegression()\n",
    "\n",
    "# Entrenamos el modelo\n",
    "# obtendremos 2 coeficientes, para graficar un plano\n",
    "regr2.fit(XY_train, z_train)\n",
    "\n",
    "# Hacemos la predicción\n",
    "z_pred = regr2.predict(XY_train)\n",
    "\n",
    "# Los coeficientes\n",
    "print('Coefficients: \\n', regr2.coef_)\n",
    "# Error cuadrático medio\n",
    "print(\"Mean squared error: %.2f\" % mean_squared_error(z_train, z_pred))\n",
    "# Evaluamos el puntaje de varianza\n",
    "print('Variance score: %.2f' % r2_score(z_train, z_pred))"
   ]
  },
  {
   "cell_type": "markdown",
   "metadata": {},
   "source": [
    "El modelo podria mejorar a medida que más variables son agregadas, sin embargo dejaremos estas dos para continuar con el ejemplo.\n",
    "\n",
    "Graficamos el plano"
   ]
  },
  {
   "cell_type": "code",
   "execution_count": 31,
   "metadata": {},
   "outputs": [
    {
     "data": {
      "text/plain": [
       "Text(0.5, 0.92, 'Regresión Lineal con Múltiples Variables')"
      ]
     },
     "execution_count": 31,
     "metadata": {},
     "output_type": "execute_result"
    },
    {
     "data": {
      "image/png": "[encoded data removed]",
      "text/plain": [
       "<Figure size 1152x648 with 1 Axes>"
      ]
     },
     "metadata": {},
     "output_type": "display_data"
    }
   ],
   "source": [
    "fig = plt.figure()\n",
    "ax = Axes3D(fig)\n",
    "\n",
    "# Creamos una malla\n",
    "xx, yy = np.meshgrid(np.linspace(0, 2, num=10), np.linspace(0, 18, num=10))\n",
    "\n",
    "# calculamos los valores del plano para los puntos x e y\n",
    "nuevoX = (regr2.coef_[0] * xx)\n",
    "nuevoY = (regr2.coef_[1] * yy) \n",
    "\n",
    "# calculamos los correspondientes valores para z. Debemos sumar el punto de intercepción\n",
    "z = (nuevoX + nuevoY + regr2.intercept_)\n",
    "\n",
    "# Graficamos el plano\n",
    "ax.plot_surface(xx, yy, z, alpha=0.2, cmap='hot')\n",
    "\n",
    "# Graficamos en azul los puntos en 3D\n",
    "ax.scatter(XY_train[:, 0], XY_train[:, 1], z_train, c='blue',s=30)\n",
    "\n",
    "# Graficamos en rojo, los puntos que \n",
    "ax.scatter(XY_train[:, 0], XY_train[:, 1], z_pred, c='red',s=40)\n",
    "\n",
    "# con esto situamos la \"camara\"\n",
    "ax.view_init(elev=10., azim=80)\n",
    "        \n",
    "ax.set_xlabel('Volatile acidity')\n",
    "ax.set_ylabel('Alcohol')\n",
    "ax.set_zlabel('Quality')\n",
    "ax.set_title('Regresión Lineal con Múltiples Variables')"
   ]
  },
  {
   "cell_type": "markdown",
   "metadata": {},
   "source": [
    "Hacemos una predicción para un vino con acidez volátil 0.8 y alcohol 13.2"
   ]
  },
  {
   "cell_type": "code",
   "execution_count": 34,
   "metadata": {},
   "outputs": [
    {
     "name": "stdout",
     "output_type": "stream",
     "text": [
      "la calificación es [6.13088791]\n"
     ]
    }
   ],
   "source": [
    "# Si quiero predecir: \n",
    "# según nuestro modelo, hacemos:\n",
    "\n",
    "z_Dosmil = regr2.predict([[0.8, 13.2]])\n",
    "print('la calificación es', z_Dosmil)"
   ]
  },
  {
   "cell_type": "markdown",
   "metadata": {},
   "source": [
    "## Conclusiones\n",
    "\n",
    "* Los modelos de regresión surgieron de manera casi natural para explicar ciertas variables en terminos de otras variables, viendo en un primer momento cómo se relacionaban estas variables. Posteriormente y tras muchos años de análisis, se pueden establecer modelos lineales y los métodos adecuados para estimar los coeficientes del modelo.\n",
    "\n",
    "* Gracias a los computadores y al desarrollo de software especializado los modelos estimados contenian cada vez más variables, más datos para estimar y un mejor entendimiento del modelo en general. Como vimos en el ejemplo desarrollado, se logró a través de Python entrenar un modelo con dos variables explicativas, 1599 observaciones y la representación del plano que resultó del modelo. Sin embargo, el conocimiento que podemos generar puede ser mucho mayor a medida que hacemos un modelo más complejo."
   ]
  },
  {
   "cell_type": "markdown",
   "metadata": {},
   "source": [
    "## Blibliografía\n",
    "\n",
    "1. Estepa Casto, A., Gea Serrano, M., Cañadas, G. and Contreras, J., 2012. Algunas notas históricas sobre la correlación y regresión y su uso en el aula. Revista de Didáctica de las Matemáticas, 81(1), pp.5 - 14.\n",
    "2. Hald, A. (1998). A history of mathematical statistics. From 1750 to 1930. New York: John Wiley\n",
    "3. Hocking, R., 2003. Methods and Applications of Linear Models: Regression and the Analysis of V. 2nd ed. John Wiley & Sons, pp.3 - 4.\n",
    "4. Montgomery, D., Peck, E. and Vining, G., 2001. Introduction to linear regression analysis. 5th ed. New York: Wiley, pp.67 - 72.\n",
    "5. P. Cortez, A. Cerdeira, F. Almeida, T. Matos and J. Reis. Modeling wine preferences by data mining from physicochemical properties. In Decision Support Systems, Elsevier, 47(4):547-553, 2009.\n",
    "6. Aprendemachinelearning.com. 2021. Ejemplo Regresión Lineal Python | Aprende Machine Learning. [online] Available at: <https://www.aprendemachinelearning.com/regresion-lineal-en-espanol-con-python/> [Accessed 10 March 2021]."
   ]
  },
  {
   "cell_type": "code",
   "execution_count": null,
   "metadata": {},
   "outputs": [],
   "source": []
  }
 ],
 "metadata": {
  "kernelspec": {
   "display_name": "Python 3",
   "language": "python",
   "name": "python3"
  },
  "language_info": {
   "codemirror_mode": {
    "name": "ipython",
    "version": 3
   },
   "file_extension": ".py",
   "mimetype": "text/x-python",
   "name": "python",
   "nbconvert_exporter": "python",
   "pygments_lexer": "ipython3",
   "version": "3.8.5"
  }
 },
 "nbformat": 4,
 "nbformat_minor": 4
}
